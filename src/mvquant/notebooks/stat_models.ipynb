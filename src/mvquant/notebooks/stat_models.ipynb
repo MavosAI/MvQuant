{
 "cells": [
  {
   "cell_type": "code",
   "execution_count": null,
   "metadata": {},
   "outputs": [],
   "source": [
    "import numpy as np\n",
    "import pandas as pd\n",
    "import matplotlib.pyplot as plt\n",
    "# %matplotlib inline\n",
    "\n",
    "import pmdarima as pm\n",
    "print(f\"Using pmdarima {pm.__version__}\")\n",
    "# Using pmdarima 1.5.2"
   ]
  },
  {
   "cell_type": "code",
   "execution_count": null,
   "metadata": {},
   "outputs": [],
   "source": [
    "from pmdarima.datasets.stocks import load_msft\n",
    "\n",
    "df = load_msft()\n",
    "df.head()"
   ]
  },
  {
   "cell_type": "code",
   "execution_count": null,
   "metadata": {},
   "outputs": [],
   "source": [
    "from pandas.plotting import lag_plot\n",
    "\n",
    "fig, axes = plt.subplots(3, 2, figsize=(8, 12))\n",
    "plt.title('MSFT Autocorrelation plot')\n",
    "\n",
    "# The axis coordinates for the plots\n",
    "ax_idcs = [\n",
    "    (0, 0),\n",
    "    (0, 1),\n",
    "    (1, 0),\n",
    "    (1, 1),\n",
    "    (2, 0),\n",
    "    (2, 1)\n",
    "]\n",
    "\n",
    "for lag, ax_coords in enumerate(ax_idcs, 1):\n",
    "    ax_row, ax_col = ax_coords\n",
    "    axis = axes[ax_row][ax_col]\n",
    "    lag_plot(df['Open'], lag=lag, ax=axis)\n",
    "    axis.set_title(f\"Lag={lag}\")\n",
    "\n",
    "plt.show()"
   ]
  },
  {
   "cell_type": "code",
   "execution_count": null,
   "metadata": {},
   "outputs": [],
   "source": [
    "df.head()"
   ]
  },
  {
   "cell_type": "code",
   "execution_count": null,
   "metadata": {},
   "outputs": [],
   "source": [
    "y_train = df[\"Close\"][:int(len(df) * 0.8)]\n",
    "test_data = df[int(len(df) * 0.8):int(len(df) * 0.8)+100]\n",
    "y_test = test_data[\"Close\"]\n",
    "df.shape, y_train.shape, y_test.shape, len(y_train) + len(y_test)"
   ]
  },
  {
   "cell_type": "code",
   "execution_count": null,
   "metadata": {},
   "outputs": [],
   "source": [
    "from pmdarima.arima import ndiffs\n",
    "\n",
    "kpss_diffs = ndiffs(y_train, alpha=0.05, test='kpss', max_d=6)\n",
    "adf_diffs = ndiffs(y_train, alpha=0.05, test='adf', max_d=6)\n",
    "n_diffs = max(adf_diffs, kpss_diffs)\n",
    "\n",
    "print(f\"Estimated differencing term: {n_diffs}\")\n",
    "# Estimated differencing term: 1"
   ]
  },
  {
   "cell_type": "code",
   "execution_count": null,
   "metadata": {},
   "outputs": [],
   "source": [
    "auto = pm.auto_arima(y_train, d=n_diffs, seasonal=False, stepwise=True,\n",
    "                     suppress_warnings=True, error_action=\"ignore\", max_p=6,\n",
    "                     max_order=None, trace=True)"
   ]
  },
  {
   "cell_type": "code",
   "execution_count": null,
   "metadata": {},
   "outputs": [],
   "source": [
    "from copy import deepcopy\n"
   ]
  },
  {
   "cell_type": "code",
   "execution_count": null,
   "metadata": {},
   "outputs": [],
   "source": [
    "print(auto.order)\n",
    "# (0, 1, 0)"
   ]
  },
  {
   "cell_type": "code",
   "execution_count": null,
   "metadata": {},
   "outputs": [],
   "source": [
    "from sklearn.metrics import mean_squared_error\n",
    "from pmdarima.metrics import smape\n",
    "from tqdm.notebook import trange, tqdm\n",
    "model = deepcopy(auto)  # seeded from the model we've already fit\n",
    "n_days = 5\n",
    "def forecast_one_step():\n",
    "    fc, conf_int = model.predict(n_periods=n_days, return_conf_int=True)\n",
    "    return (\n",
    "        fc,\n",
    "        np.asarray(conf_int))\n",
    "\n",
    "forecasts = []\n",
    "confidence_intervals = []\n",
    "out_mse = []\n",
    "n_test_days=len(y_test[:-n_days])\n",
    "for i,new_ob in tqdm(enumerate(y_test[:-n_days])):\n",
    "    fc, conf = forecast_one_step()\n",
    "    out_mse.append(mean_squared_error(y_test[i:n_days+i], fc))\n",
    "    print(f\"Mean squared error: {mean_squared_error(y_test[i:n_days+i], fc)}\")\n",
    "    print(f\"SMAPE: {smape(y_test[i:n_days+i], fc)}\")\n",
    "    # Updates the existing model with a small number of MLE steps\n",
    "    model.update(new_ob)\n",
    "\n",
    "\n",
    "# Mean squared error: 0.34238951346274243\n",
    "# SMAPE: 0.9825490519101439"
   ]
  },
  {
   "cell_type": "code",
   "execution_count": null,
   "metadata": {},
   "outputs": [],
   "source": [
    "np.mean(out_mse)"
   ]
  },
  {
   "cell_type": "code",
   "execution_count": null,
   "metadata": {},
   "outputs": [],
   "source": [
    "np.percentile(out_mse, 80)"
   ]
  },
  {
   "cell_type": "code",
   "execution_count": null,
   "metadata": {},
   "outputs": [],
   "source": [
    "forecasts = np.asarray(forecasts)\n",
    "confidence_intervals = np.asarray(confidence_intervals)"
   ]
  },
  {
   "cell_type": "code",
   "execution_count": null,
   "metadata": {},
   "outputs": [],
   "source": [
    "fig, axes = plt.subplots(2, 1, figsize=(12, 12))\n",
    "\n",
    "# --------------------- Actual vs. Predicted --------------------------\n",
    "axes[0].plot(y_train, color='blue', label='Training Data')\n",
    "# axes[0].plot(test_data.index, forecasts, color='green', marker='o',\n",
    "#              label='Predicted Price')\n",
    "\n",
    "axes[0].plot(test_data.index[:n_days], y_test[:n_days], color='red', label='Actual Price')\n",
    "axes[0].set_title('Microsoft Prices Prediction')\n",
    "axes[0].set_xlabel('Dates')\n",
    "axes[0].set_ylabel('Prices')\n",
    "\n",
    "axes[0].set_xticks(np.arange(0, 7982, 1300).tolist(), df['Date'][0:7982:1300].tolist())\n",
    "axes[0].legend()\n",
    "\n",
    "\n",
    "# ------------------ Predicted with confidence intervals ----------------\n",
    "axes[1].plot(y_train, color='blue', label='Training Data')\n",
    "axes[1].plot(test_data.index[:n_days], forecasts, color='green',\n",
    "             label='Predicted Price')\n",
    "\n",
    "axes[1].set_title('Prices Predictions & Confidence Intervals')\n",
    "axes[1].set_xlabel('Dates')\n",
    "axes[1].set_ylabel('Prices')\n",
    "\n",
    "conf_int = np.asarray(confidence_intervals)\n",
    "axes[1].fill_between(test_data.index[:n_days],\n",
    "                     conf_int[:, 0], conf_int[:, 1],\n",
    "                     alpha=0.9, color='orange',\n",
    "                     label=\"Confidence Intervals\")\n",
    "\n",
    "axes[1].set_xticks(np.arange(0, 7982, 1300).tolist(), df['Date'][0:7982:1300].tolist())\n",
    "axes[1].legend()"
   ]
  },
  {
   "cell_type": "code",
   "execution_count": null,
   "metadata": {},
   "outputs": [],
   "source": []
  }
 ],
 "metadata": {
  "kernelspec": {
   "display_name": "dl",
   "language": "python",
   "name": "python3"
  },
  "language_info": {
   "codemirror_mode": {
    "name": "ipython",
    "version": 3
   },
   "file_extension": ".py",
   "mimetype": "text/x-python",
   "name": "python",
   "nbconvert_exporter": "python",
   "pygments_lexer": "ipython3",
   "version": "3.11.3"
  },
  "orig_nbformat": 4
 },
 "nbformat": 4,
 "nbformat_minor": 2
}
